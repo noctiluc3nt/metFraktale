{
 "cells": [
  {
   "cell_type": "markdown",
   "metadata": {},
   "source": [
    "## Fraktale Dimension von Niederschlagszeitreihen\n",
    "\n",
    "\n",
    "\n",
    "\n",
    "### Teil 0: Daten vorbereiten\n"
   ]
  },
  {
   "cell_type": "markdown",
   "metadata": {},
   "source": [
    "### Teil 1: Pareto-Verteilung\n",
    "Zunächst soll \n",
    "\n",
    "a) Filtere dafür zunächst alle Niederschlagsereignisse (RR>0) raus und erstelle dann einen QQ-Plot (bzgl. der Pareto-Verteilung) mit ReIns::QQPareto und interpretiere diesen.\n",
    "\n",
    "b) Zeige (rechnerisch), dass die Pareto-Verteilung skaleninvariant ist.\n",
    "\n",
    "c) Schätze den Exponenten der Pareto-Verteilung (shape parameter) mit der Funktion EnvStat::epareto. "
   ]
  },
  {
   "cell_type": "markdown",
   "metadata": {},
   "source": [
    "### Teil 2: Fraktale Dimension\n",
    "In diesem Teil der Aufgabe wollen wir die fraktale Dimension bestimmen. Dazu nutzen wir das R-Paket fractaldim:\n",
    "\n",
    "Dokumentation: https://cran.r-project.org/web//packages/fractaldim/fractaldim.pdf\n",
    "Hintergrund: https://stat.uw.edu/sites/default/files/files/reports/2010/tr577.pdf\n",
    "\n",
    "\n",
    "a) Wir betrachten 1D-Niederschlagszeitreihen. Nutze die Funktion fractaldim::fd.estim.boxcount, um die Boxcounting-Dimension der gesamten Niederschlagszeitreihe zu schätzen. Weise dafür das Ergebnis von fd.estim.boxcount einem Objekt zu und betrachte den Output. Was bedeuten fd, scale, alpha und intercept?\n",
    "\n",
    "b) Berechne nun die Boxcounting-Dimension in Abhängigkeit des Monats. Beschreibe und interpretiere die Ergebnisse."
   ]
  },
  {
   "cell_type": "markdown",
   "metadata": {},
   "source": [
    "### Weiterführend: \n",
    "In der Dokumentation von fractaldim sind weitere Verfahren zur Schätzung der fraktalen Dimension beschrieben.\n",
    "Vergleiche diese (anhand desselben Vorgehens wie zuvor) mit der Boxcounting-Dimension. Welche Unterschiede zeigen sich?"
   ]
  }
 ],
 "metadata": {
  "kernelspec": {
   "display_name": "R",
   "language": "R",
   "name": "ir"
  },
  "language_info": {
   "codemirror_mode": "r",
   "file_extension": ".r",
   "mimetype": "text/x-r-source",
   "name": "R",
   "pygments_lexer": "r",
   "version": "3.6.3"
  }
 },
 "nbformat": 4,
 "nbformat_minor": 2
}
