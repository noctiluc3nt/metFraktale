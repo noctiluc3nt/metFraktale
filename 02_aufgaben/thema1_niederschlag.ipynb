{
 "cells": [
  {
   "cell_type": "markdown",
   "metadata": {},
   "source": [
    "# Fraktale Dimension und Hurst-Exponent von Niederschlagszeitreihen\n",
    "\n",
    "\n",
    "In dieser Aufgabe geht es um die fraktale Dimension und den Hurst-Exponenten von Niederschlagszeitreihen. Diese sollen in Abhängigkeit der Auflösung und des Monats untersucht werden.\n",
    "\n",
    "\n",
    "\n",
    "### Teil 0: Daten vorbereiten\n",
    "Wir betrachten die einstündigen Niederschlagszeitreihen der Stationen Berlin-Dahlem und Hohenpeißenberg aus 2020. <br> Diese sind hier vorbereitet: ./daten/rr_1h_2020_dahlem-hohenpeissenberg.txt\n",
    "\n",
    "Plotte testweise die Zeitreihen und schaue dir die Quantile an (z.B. mit summary()). Aggregiere die Daten dann auf sechs Stunden und einen Tag und plotte diese ebenfalls als Zeitreihe."
   ]
  },
  {
   "cell_type": "code",
   "execution_count": 2,
   "metadata": {
    "collapsed": true
   },
   "outputs": [],
   "source": [
    "#Daten\n",
    "file = '/net/scratch/laum52/metfraktale/02_aufgaben/daten/rr_1h_2020_dahlem-hohenpeissenberg.txt' "
   ]
  },
  {
   "cell_type": "markdown",
   "metadata": {},
   "source": [
    "### Teil 1: Boxcounting-Dimension und Hurst-Exponent von Niederschlagszeitreihen\n",
    "In diesem Teil der Aufgabe wollen wir die fraktale Dimension und den Hurst-Exponenten von der Niederschlagszeitreihe bestimmen. Dazu nutzen wir die zwei R-Pakete fractaldim und pracma:<br><br>\n",
    "\n",
    "**fractaldim:** <br>\n",
    "Dokumentation: https://cran.r-project.org/web//packages/fractaldim/fractaldim.pdf <br>\n",
    "Hintergrund: https://stat.uw.edu/sites/default/files/files/reports/2010/tr577.pdf <br>\n",
    "\n",
    "\n",
    "**pracma:** (dies ist ein sehr großes Paket für viele Aspekte der numerischen linearen Algebra) <br>\n",
    "Dokumentation: https://cran.r-project.org/web/packages/pracma/pracma.pdf <br><br>\n",
    "\n",
    "\n",
    "\n",
    "a) Wir betrachten zunächst die einstündigen Niederschlagszeitreihen von Berlin-Dahlem. Nutze die Funktion fractaldim::fd.estim.boxcount, um die Boxcounting-Dimension der gesamten Niederschlagszeitreihe zu schätzen. Weise dafür das Ergebnis von fd.estim.boxcount einem Objekt zu und betrachte den Output. Was bedeuten fd, scale, alpha und intercept? Wie hängen diese zusammen?\n",
    "\n",
    "b) Nutze nun die Funktion pracma::hurstexp, um den Hurst-Exponenten zu berechnen.\n",
    "\n",
    "c) Berechne den Hurst-Exponenten nun direkt aus der Boxcounting-Dimension (a) unter Annahme von Selbstähnlichkeit und vergleiche das Ergebnis mit dem Ergebnis aus (b).\n",
    "\n",
    "\n",
    "c) Vergleiche die Boxcounting-Dimension und den Hurst-Exponenten für die unterschiedlichen Aggregationsstufen (1 Stunde, 6 Stunden, 1 Tag) und die beiden Stationen (Berlin-Dahlem, Hohenpeißenberg). Wie können die Ergebnisse interpretiert werden?\n",
    "\n",
    "d) Berechne und plotte nun die Boxcounting-Dimension und den Hurst-Exponenten in Abhängigkeit des Monats. Beschreibe und interpretiere die Ergebnisse."
   ]
  },
  {
   "cell_type": "code",
   "execution_count": 1,
   "metadata": {},
   "outputs": [
    {
     "name": "stderr",
     "output_type": "stream",
     "text": [
      "Loading required package: abind\n"
     ]
    }
   ],
   "source": [
    "library('fractaldim')\n",
    "library('pracma')"
   ]
  },
  {
   "cell_type": "markdown",
   "metadata": {},
   "source": [
    "### Teil 2 (weiterführend): weitere Methoden zur Berechnung der fraktalen Dimension \n",
    "In der Dokumentation von fractaldim sind weitere Verfahren zur Schätzung der fraktalen Dimension beschrieben.\n",
    "Vergleiche diese (anhand desselben Vorgehens wie zuvor) mit der Boxcounting-Dimension. Welche Unterschiede zeigen sich? Beachte dabei, dass wir nur eindimensionale Daten vorliegen haben."
   ]
  },
  {
   "cell_type": "code",
   "execution_count": null,
   "metadata": {
    "collapsed": true
   },
   "outputs": [],
   "source": []
  },
  {
   "cell_type": "markdown",
   "metadata": {},
   "source": [
    "### Teil 3 (Ausblick): fraktales Modell zur Niederschlagsmodellierung\n",
    "\n",
    "In diesem wichtigen Paper <br>\n",
    "\n",
    "Lovejoy, S. und Mandelbrot, B. B.: *Fractal properties of rain, and a fractal model*, Tellus A: Dynamic Meteorology and Oceanography, 37A, 209-232, DOI: 10.3402/tellusa.v37i3.11668, 1985. (online unter: https://www.tandfonline.com/doi/pdf/10.3402/tellusa.v37i3.11668)  <br>\n",
    "\n",
    "wurde ein fraktales Modell zur Niederschlagsmodellierung (mit fractal sums of pulses, FSP) entwickelt. Auf welchen Annahmen basiert es und wie funktioniert es?"
   ]
  }
 ],
 "metadata": {
  "kernelspec": {
   "display_name": "R",
   "language": "R",
   "name": "ir"
  },
  "language_info": {
   "codemirror_mode": "r",
   "file_extension": ".r",
   "mimetype": "text/x-r-source",
   "name": "R",
   "pygments_lexer": "r",
   "version": "3.6.3"
  }
 },
 "nbformat": 4,
 "nbformat_minor": 2
}
